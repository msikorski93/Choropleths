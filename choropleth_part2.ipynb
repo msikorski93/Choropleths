{
 "cells": [
  {
   "cell_type": "markdown",
   "metadata": {},
   "source": [
    "# Choropleth Maps in Plotly (part 2)\n",
    "\n",
    "### Choropleth 3 - Population Distribution in Powiats\n",
    "\n",
    "Last choropleth will plot population density in Polish powiats in year 2013. The concept of creating this chart is the same as previous. Unlike the previous choropleths, this one will need more data processing due to bigger number of polygons (powiats). We will also use <code>Mapbox</code> - a mapping platform for custom designed maps.\n",
    "\n",
    "Data sources [Accessed 27th October 2021]:<br>\n",
    "https://zpe.gov.pl/a/rozmieszczenie-ludnosci-polski/DQ9OTgf37<br>\n",
    "https://static.zpe.gov.pl/portal/f/res/R4RyNQv9sF7eC/4/1AjOpiYeZdgfDYu2l5NlhyE7CY6d1QEB/Geog_gim_2_15_4_Gest_zalud_Powiaty.ods"
   ]
  },
  {
   "cell_type": "code",
   "execution_count": 1,
   "metadata": {},
   "outputs": [],
   "source": [
    "# importing modules\n",
    "import pandas as pd\n",
    "import plotly.express as px"
   ]
  },
  {
   "cell_type": "code",
   "execution_count": 2,
   "metadata": {},
   "outputs": [
    {
     "data": {
      "text/plain": [
       "{'id': 4, 'nazwa': 'powiat radomski'}"
      ]
     },
     "execution_count": 2,
     "metadata": {},
     "output_type": "execute_result"
    }
   ],
   "source": [
    "# geojson with powiats\n",
    "url = r'https://raw.githubusercontent.com/ppatrzyk/polska-geojson/master/powiaty/powiaty-medium.geojson'\n",
    "\n",
    "# loading geojson data from url\n",
    "from urllib.request import urlopen\n",
    "import json\n",
    "\n",
    "with urlopen(url) as response:\n",
    "    pow_url = json.load(response)\n",
    "\n",
    "# check properties for any element\n",
    "pow_url['features'][3]['properties']"
   ]
  },
  {
   "cell_type": "code",
   "execution_count": 3,
   "metadata": {},
   "outputs": [
    {
     "data": {
      "text/plain": [
       "380"
      ]
     },
     "execution_count": 3,
     "metadata": {},
     "output_type": "execute_result"
    }
   ],
   "source": [
    "# number of features (powiaty) in geojson - there should be 380 for Poland\n",
    "n = len(pow_url['features'])\n",
    "n"
   ]
  },
  {
   "cell_type": "code",
   "execution_count": 4,
   "metadata": {},
   "outputs": [
    {
     "data": {
      "text/plain": [
       "['powiat ropczycko-sędziszowski',\n",
       " 'powiat łosicki',\n",
       " 'powiat piaseczyński',\n",
       " 'powiat radomski',\n",
       " 'powiat sierpecki',\n",
       " 'powiat szydłowiecki',\n",
       " 'powiat węgrowski',\n",
       " 'powiat gostyniński',\n",
       " 'powiat grodziski',\n",
       " 'powiat łukowski']"
      ]
     },
     "execution_count": 4,
     "metadata": {},
     "output_type": "execute_result"
    }
   ],
   "source": [
    "# get list of powiats\n",
    "powiats = []\n",
    "\n",
    "for i in range(0,n):\n",
    "    powiats.append(pow_url['features'][i]['properties']['nazwa'])\n",
    "\n",
    "# display first 10 elements\n",
    "powiats[0:10]"
   ]
  },
  {
   "cell_type": "code",
   "execution_count": 5,
   "metadata": {},
   "outputs": [
    {
     "name": "stdout",
     "output_type": "stream",
     "text": [
      "10\n",
      "{'powiat średzki', 'powiat opolski', 'powiat nowodworski', 'powiat ostrowski', 'powiat tomaszowski', 'powiat grodziski', 'powiat brzeski', 'powiat krośnieński', 'powiat świdnicki', 'powiat bielski'}\n"
     ]
    }
   ],
   "source": [
    "# number of unique values\n",
    "b = len(set(powiats))\n",
    "\n",
    "# difference between list length and unique values\n",
    "print(n - b)\n",
    "\n",
    "# return duplicates from list of powiats\n",
    "print(set([x for x in powiats if powiats.count(x) > 1]))"
   ]
  },
  {
   "cell_type": "markdown",
   "metadata": {},
   "source": [
    "Unfortunately, not all names of powiats are unique in Poland which means we will not be able to match their id's correctly with data frame rows by names. There would be 10 missing powiats on future choropleth. Both the data frame and GeoJSON file will need a new unique feature (for example TERYT) to map all powiats.\n",
    "Since the number of duplicates in not large I downloaded the GeoJSON file from URL location and changed the names manually based on the point coordinates searched on Google Maps and it's voivodeship. Let's load the corrected file from directory."
   ]
  },
  {
   "cell_type": "code",
   "execution_count": 6,
   "metadata": {},
   "outputs": [
    {
     "data": {
      "text/plain": [
       "{'id': 35, 'nazwa': 'powiat mrągowski'}"
      ]
     },
     "execution_count": 6,
     "metadata": {},
     "output_type": "execute_result"
    }
   ],
   "source": [
    "# loading geojson file from directory\n",
    "powiaty = json.load(open('powiaty.geojson', encoding='UTF-8'))\n",
    "\n",
    "# check properties for any element\n",
    "powiaty['features'][34]['properties']"
   ]
  },
  {
   "cell_type": "code",
   "execution_count": 7,
   "metadata": {},
   "outputs": [
    {
     "data": {
      "text/html": [
       "<div>\n",
       "<style scoped>\n",
       "    .dataframe tbody tr th:only-of-type {\n",
       "        vertical-align: middle;\n",
       "    }\n",
       "\n",
       "    .dataframe tbody tr th {\n",
       "        vertical-align: top;\n",
       "    }\n",
       "\n",
       "    .dataframe thead th {\n",
       "        text-align: right;\n",
       "    }\n",
       "</style>\n",
       "<table border=\"1\" class=\"dataframe\">\n",
       "  <thead>\n",
       "    <tr style=\"text-align: right;\">\n",
       "      <th></th>\n",
       "      <th>powiat</th>\n",
       "      <th>area</th>\n",
       "      <th>population</th>\n",
       "      <th>density</th>\n",
       "    </tr>\n",
       "  </thead>\n",
       "  <tbody>\n",
       "    <tr>\n",
       "      <th>0</th>\n",
       "      <td>bolesławiecki</td>\n",
       "      <td>1304</td>\n",
       "      <td>90420</td>\n",
       "      <td>1.840987</td>\n",
       "    </tr>\n",
       "    <tr>\n",
       "      <th>1</th>\n",
       "      <td>dzierżoniowski</td>\n",
       "      <td>479</td>\n",
       "      <td>105284</td>\n",
       "      <td>2.342027</td>\n",
       "    </tr>\n",
       "    <tr>\n",
       "      <th>2</th>\n",
       "      <td>głogowski</td>\n",
       "      <td>443</td>\n",
       "      <td>90386</td>\n",
       "      <td>2.309697</td>\n",
       "    </tr>\n",
       "    <tr>\n",
       "      <th>3</th>\n",
       "      <td>górowski</td>\n",
       "      <td>738</td>\n",
       "      <td>36625</td>\n",
       "      <td>1.695721</td>\n",
       "    </tr>\n",
       "    <tr>\n",
       "      <th>4</th>\n",
       "      <td>jaworski</td>\n",
       "      <td>582</td>\n",
       "      <td>52356</td>\n",
       "      <td>1.954043</td>\n",
       "    </tr>\n",
       "  </tbody>\n",
       "</table>\n",
       "</div>"
      ],
      "text/plain": [
       "           powiat  area  population   density\n",
       "0   bolesławiecki  1304       90420  1.840987\n",
       "1  dzierżoniowski   479      105284  2.342027\n",
       "2       głogowski   443       90386  2.309697\n",
       "3        górowski   738       36625  1.695721\n",
       "4        jaworski   582       52356  1.954043"
      ]
     },
     "execution_count": 7,
     "metadata": {},
     "output_type": "execute_result"
    }
   ],
   "source": [
    "# loading pandas data\n",
    "df = pd.read_excel('data_2013.xlsx', header=0, sheet_name='Sheet1')\n",
    "\n",
    "# adding new column with population density\n",
    "df['density'] = df['population']/df['area']\n",
    "\n",
    "# scaling data in new column with log10 - this will improve presentation\n",
    "from numpy import log10\n",
    "df['density'] = log10(df['density'])\n",
    "\n",
    "df.head()"
   ]
  },
  {
   "cell_type": "code",
   "execution_count": 8,
   "metadata": {},
   "outputs": [
    {
     "data": {
      "text/plain": [
       "<matplotlib.axes._subplots.AxesSubplot at 0x13d9da8>"
      ]
     },
     "execution_count": 8,
     "metadata": {},
     "output_type": "execute_result"
    },
    {
     "data": {
      "image/png": "[encoded data removed]",
      "text/plain": [
       "<Figure size 432x288 with 1 Axes>"
      ]
     },
     "metadata": {
      "needs_background": "light"
     },
     "output_type": "display_data"
    }
   ],
   "source": [
    "# overall plot on population density\n",
    "df['density'].plot()"
   ]
  },
  {
   "cell_type": "code",
   "execution_count": 9,
   "metadata": {},
   "outputs": [
    {
     "name": "stdout",
     "output_type": "stream",
     "text": [
      "380\n",
      "True\n"
     ]
    }
   ],
   "source": [
    "# unique values of powiat names in data frame\n",
    "print(len(df['powiat'].unique()))\n",
    "\n",
    "# are lengths equal?\n",
    "print(len(powiaty['features']) == len(df['powiat']))"
   ]
  },
  {
   "cell_type": "markdown",
   "metadata": {},
   "source": [
    "We need to remove \"powiat \" substring from names in GeoJSON. Otherwise we won't match id's with data frame records. Optionally, we can add this phrase to <code>powiat</code> column in the data frame but it is better to reduce memory usage."
   ]
  },
  {
   "cell_type": "code",
   "execution_count": 10,
   "metadata": {},
   "outputs": [
    {
     "data": {
      "text/plain": [
       "'garwoliński'"
      ]
     },
     "execution_count": 10,
     "metadata": {},
     "output_type": "execute_result"
    }
   ],
   "source": [
    "# trim/remove substring 'powiat ' from powiat name\n",
    "for i in range(0,n):\n",
    "    if 'nazwa' in powiaty['features'][i]['properties']:\n",
    "        powiaty['features'][i]['properties']['nazwa'] =\\\n",
    "        powiaty['features'][i]['properties']['nazwa'].replace('powiat ', '')\n",
    "\n",
    "# check any name from geojson\n",
    "powiaty['features'][120]['properties']['nazwa']"
   ]
  },
  {
   "cell_type": "code",
   "execution_count": 11,
   "metadata": {},
   "outputs": [
    {
     "data": {
      "text/plain": [
       "[('ropczycko-sędziszowski', 1),\n",
       " ('łosicki', 2),\n",
       " ('piaseczyński', 3),\n",
       " ('radomski', 4),\n",
       " ('sierpecki', 5),\n",
       " ('szydłowiecki', 6),\n",
       " ('węgrowski', 7),\n",
       " ('gostyniński', 8),\n",
       " ('grodziski (mazowiecki)', 9),\n",
       " ('łukowski', 10)]"
      ]
     },
     "execution_count": 11,
     "metadata": {},
     "output_type": "execute_result"
    }
   ],
   "source": [
    "# extracting powiat names and their id's from geojson\n",
    "pow_id_map = {}\n",
    "\n",
    "for feature in powiaty['features']:\n",
    "    feature['id'] = feature['properties']['id']\n",
    "    pow_id_map[feature['properties']['nazwa']] = feature['id']\n",
    "\n",
    "# check first 10 elements\n",
    "list(pow_id_map.items())[0:10]"
   ]
  },
  {
   "cell_type": "code",
   "execution_count": 12,
   "metadata": {},
   "outputs": [
    {
     "data": {
      "text/html": [
       "<div>\n",
       "<style scoped>\n",
       "    .dataframe tbody tr th:only-of-type {\n",
       "        vertical-align: middle;\n",
       "    }\n",
       "\n",
       "    .dataframe tbody tr th {\n",
       "        vertical-align: top;\n",
       "    }\n",
       "\n",
       "    .dataframe thead th {\n",
       "        text-align: right;\n",
       "    }\n",
       "</style>\n",
       "<table border=\"1\" class=\"dataframe\">\n",
       "  <thead>\n",
       "    <tr style=\"text-align: right;\">\n",
       "      <th></th>\n",
       "      <th>powiat</th>\n",
       "      <th>area</th>\n",
       "      <th>population</th>\n",
       "      <th>density</th>\n",
       "      <th>id</th>\n",
       "    </tr>\n",
       "  </thead>\n",
       "  <tbody>\n",
       "    <tr>\n",
       "      <th>0</th>\n",
       "      <td>bolesławiecki</td>\n",
       "      <td>1304</td>\n",
       "      <td>90420</td>\n",
       "      <td>1.840987</td>\n",
       "      <td>150</td>\n",
       "    </tr>\n",
       "    <tr>\n",
       "      <th>1</th>\n",
       "      <td>dzierżoniowski</td>\n",
       "      <td>479</td>\n",
       "      <td>105284</td>\n",
       "      <td>2.342027</td>\n",
       "      <td>187</td>\n",
       "    </tr>\n",
       "    <tr>\n",
       "      <th>2</th>\n",
       "      <td>głogowski</td>\n",
       "      <td>443</td>\n",
       "      <td>90386</td>\n",
       "      <td>2.309697</td>\n",
       "      <td>36</td>\n",
       "    </tr>\n",
       "    <tr>\n",
       "      <th>3</th>\n",
       "      <td>górowski</td>\n",
       "      <td>738</td>\n",
       "      <td>36625</td>\n",
       "      <td>1.695721</td>\n",
       "      <td>313</td>\n",
       "    </tr>\n",
       "    <tr>\n",
       "      <th>4</th>\n",
       "      <td>jaworski</td>\n",
       "      <td>582</td>\n",
       "      <td>52356</td>\n",
       "      <td>1.954043</td>\n",
       "      <td>378</td>\n",
       "    </tr>\n",
       "  </tbody>\n",
       "</table>\n",
       "</div>"
      ],
      "text/plain": [
       "           powiat  area  population   density   id\n",
       "0   bolesławiecki  1304       90420  1.840987  150\n",
       "1  dzierżoniowski   479      105284  2.342027  187\n",
       "2       głogowski   443       90386  2.309697   36\n",
       "3        górowski   738       36625  1.695721  313\n",
       "4        jaworski   582       52356  1.954043  378"
      ]
     },
     "execution_count": 12,
     "metadata": {},
     "output_type": "execute_result"
    }
   ],
   "source": [
    "# create new id column in data frame by matching with id from geojson\n",
    "df['id'] = df['powiat'].apply(lambda x: pow_id_map[x])\n",
    "\n",
    "df.head()"
   ]
  },
  {
   "cell_type": "code",
   "execution_count": 13,
   "metadata": {},
   "outputs": [
    {
     "data": {
      "text/plain": [
       "'figure_density.html'"
      ]
     },
     "execution_count": 13,
     "metadata": {},
     "output_type": "execute_result"
    }
   ],
   "source": [
    "# mapbox choropleth\n",
    "fig_pow = px.choropleth_mapbox(data_frame=df,\n",
    "                               geojson=powiaty,\n",
    "                               locations=df['id'],\n",
    "                               color=df['density'],\n",
    "                               color_continuous_scale='YlOrRd',\n",
    "                               range_color=(0,5),\n",
    "                               mapbox_style='carto-positron',\n",
    "                               hover_name=df['powiat'],\n",
    "                               height=900,\n",
    "                               center={'lat': 52, 'lon': 20},\n",
    "                               opacity=.4,\n",
    "                               zoom=5,\n",
    "                               labels={'density': '[density scale]'},\n",
    "                               title='Population Density in Poland in 2013')\n",
    "\n",
    "fig_pow.update_geos(fitbounds='locations', visible=True)\n",
    "\n",
    "# hide colorbar\n",
    "fig_pow.update_layout(coloraxis_showscale=False)\n",
    "\n",
    "import plotly\n",
    "# save to html file\n",
    "plotly.offline.plot(fig_pow, filename='figure_density.html')"
   ]
  },
  {
   "cell_type": "markdown",
   "metadata": {},
   "source": [
    "The choropleth map due to it's size and interactive functions was exported to an HTML file. It can be opened in any web browser and is available in the repository.\n",
    "\n",
    "### Conclusions\n",
    "\n",
    "This notebook represented how to efficiently plot choropleth maps with Python on different cases. These figures were made in <code>plotly</code> library which allows us to easily build outline and interactive choropleths. We successfully composed three different thematic maps:\n",
    "* static, noninteractive choropleth of unemployment rates, \n",
    "* animated graph of new cases of COVID-19 per day with time slider,\n",
    "* interactive choropleth of population density with mapping layout.\n",
    "\n",
    "Further map customization is possible and it is a matter of individual preferences. These charts represent enough information about spatial variations of a quantity and further styling is not needed. They should be easy to interpretate by any reader. Finally, choropleth maps are great visualization techniques to show clear regional pattern in the data, or for local data."
   ]
  }
 ],
 "metadata": {
  "kernelspec": {
   "display_name": "Python 3",
   "language": "python",
   "name": "python3"
  },
  "language_info": {
   "codemirror_mode": {
    "name": "ipython",
    "version": 3
   },
   "file_extension": ".py",
   "mimetype": "text/x-python",
   "name": "python",
   "nbconvert_exporter": "python",
   "pygments_lexer": "ipython3",
   "version": "3.8.3"
  }
 },
 "nbformat": 4,
 "nbformat_minor": 4
}
