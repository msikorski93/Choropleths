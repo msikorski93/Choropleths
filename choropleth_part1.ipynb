{
 "cells": [
  {
   "cell_type": "markdown",
   "metadata": {},
   "source": [
    "# Choropleth Maps in Plotly (part 1)\n",
    "\n",
    "Author: **Marcin Sikorski**<br/>\n",
    "Date: November, 2021\n",
    "\n",
    "A choropleth map is a type of thematic map in which areas are shaded or patterned in proportion to a statistical variable that represents an aggregate summary of a geographic characteristic within each area, such as population density or per-capita income ([Wikipedia][1]). It's a popular, readable and appealing way for visualizing geospatial data.\n",
    "\n",
    "This simple repository aims to practice data visualizing with choropleths. We will use for this task <code>plotly</code> which is a great, open-source, easy graphing library and allows to create interactive charts. Choropleth polygons will be based on GeoJSON files - an open standard format designed for representing simple geographical features along with their non-spatial attributes.\n",
    "\n",
    "[1]: https://en.wikipedia.org/wiki/Choropleth_map 'Wikipedia'"
   ]
  },
  {
   "cell_type": "markdown",
   "metadata": {},
   "source": [
    "### Choropleth 1 - Unemployment Rate per Voivodeship\n",
    "\n",
    "First choropleth will represent unemployment rate for August 2021. The data source is from this website - [Money][1] [Accessed 27th October 2021], which as the website says was originated from GUS (Główny Urząd Statystyczny).\n",
    "\n",
    "[1]: https://www.money.pl/gospodarka/stopa-bezrobocia-przestala-spadac-gus-podliczyl-dane-za-sierpien-6686223144180704a.html 'Money'"
   ]
  },
  {
   "cell_type": "code",
   "execution_count": 1,
   "metadata": {},
   "outputs": [],
   "source": [
    "# importing modules\n",
    "import pandas as pd\n",
    "import plotly.express as px"
   ]
  },
  {
   "cell_type": "code",
   "execution_count": 2,
   "metadata": {},
   "outputs": [],
   "source": [
    "# geojson with voivodeships\n",
    "url = r'https://raw.githubusercontent.com/ppatrzyk/polska-geojson/master/wojewodztwa/wojewodztwa-medium.geojson'"
   ]
  },
  {
   "cell_type": "code",
   "execution_count": 3,
   "metadata": {},
   "outputs": [
    {
     "data": {
      "text/plain": [
       "{'id': 1, 'nazwa': 'śląskie'}"
      ]
     },
     "execution_count": 3,
     "metadata": {},
     "output_type": "execute_result"
    }
   ],
   "source": [
    "# loading geojson data\n",
    "from urllib.request import urlopen\n",
    "import json\n",
    "\n",
    "with urlopen(url) as response:\n",
    "    wojewodztwa = json.load(response)\n",
    "\n",
    "# display properties for first element\n",
    "wojewodztwa['features'][0]['properties']"
   ]
  },
  {
   "cell_type": "code",
   "execution_count": 4,
   "metadata": {},
   "outputs": [
    {
     "data": {
      "text/html": [
       "<div>\n",
       "<style scoped>\n",
       "    .dataframe tbody tr th:only-of-type {\n",
       "        vertical-align: middle;\n",
       "    }\n",
       "\n",
       "    .dataframe tbody tr th {\n",
       "        vertical-align: top;\n",
       "    }\n",
       "\n",
       "    .dataframe thead th {\n",
       "        text-align: right;\n",
       "    }\n",
       "</style>\n",
       "<table border=\"1\" class=\"dataframe\">\n",
       "  <thead>\n",
       "    <tr style=\"text-align: right;\">\n",
       "      <th></th>\n",
       "      <th>wojewodztwo</th>\n",
       "      <th>stopa</th>\n",
       "    </tr>\n",
       "  </thead>\n",
       "  <tbody>\n",
       "    <tr>\n",
       "      <th>0</th>\n",
       "      <td>dolnośląskie</td>\n",
       "      <td>5.2</td>\n",
       "    </tr>\n",
       "    <tr>\n",
       "      <th>1</th>\n",
       "      <td>podkarpackie</td>\n",
       "      <td>8.4</td>\n",
       "    </tr>\n",
       "    <tr>\n",
       "      <th>2</th>\n",
       "      <td>lubuskie</td>\n",
       "      <td>5.4</td>\n",
       "    </tr>\n",
       "    <tr>\n",
       "      <th>3</th>\n",
       "      <td>śląskie</td>\n",
       "      <td>6.3</td>\n",
       "    </tr>\n",
       "    <tr>\n",
       "      <th>4</th>\n",
       "      <td>opolskie</td>\n",
       "      <td>4.6</td>\n",
       "    </tr>\n",
       "  </tbody>\n",
       "</table>\n",
       "</div>"
      ],
      "text/plain": [
       "    wojewodztwo  stopa\n",
       "0  dolnośląskie    5.2\n",
       "1  podkarpackie    8.4\n",
       "2      lubuskie    5.4\n",
       "3       śląskie    6.3\n",
       "4      opolskie    4.6"
      ]
     },
     "execution_count": 4,
     "metadata": {},
     "output_type": "execute_result"
    }
   ],
   "source": [
    "# loading pandas data\n",
    "df_w = pd.read_csv('data_2021.txt', sep=',')\n",
    "\n",
    "df_w.head()"
   ]
  },
  {
   "cell_type": "code",
   "execution_count": 5,
   "metadata": {},
   "outputs": [
    {
     "name": "stdout",
     "output_type": "stream",
     "text": [
      "16\n",
      "True\n"
     ]
    }
   ],
   "source": [
    "# number of rows (voivodeships) in data frame - there should be 16 for Poland\n",
    "print(len(df_w['wojewodztwo']))\n",
    "\n",
    "# are lengths equal?\n",
    "print(len(wojewodztwa['features']) == len(df_w['wojewodztwo']))"
   ]
  },
  {
   "cell_type": "code",
   "execution_count": 6,
   "metadata": {},
   "outputs": [
    {
     "data": {
      "text/plain": [
       "<matplotlib.axes._subplots.AxesSubplot at 0xe085838>"
      ]
     },
     "execution_count": 6,
     "metadata": {},
     "output_type": "execute_result"
    },
    {
     "data": {
      "image/png": "[encoded data removed]",
      "text/plain": [
       "<Figure size 432x288 with 1 Axes>"
      ]
     },
     "metadata": {
      "needs_background": "light"
     },
     "output_type": "display_data"
    }
   ],
   "source": [
    "# overall plot on unemployment rate\n",
    "df_w['stopa'].plot()"
   ]
  },
  {
   "cell_type": "code",
   "execution_count": 7,
   "metadata": {},
   "outputs": [
    {
     "data": {
      "text/plain": [
       "{'śląskie': 1,\n",
       " 'opolskie': 2,\n",
       " 'wielkopolskie': 3,\n",
       " 'zachodniopomorskie': 4,\n",
       " 'świętokrzyskie': 5,\n",
       " 'kujawsko-pomorskie': 6,\n",
       " 'podlaskie': 7,\n",
       " 'dolnośląskie': 8,\n",
       " 'podkarpackie': 9,\n",
       " 'małopolskie': 10,\n",
       " 'pomorskie': 11,\n",
       " 'warmińsko-mazurskie': 12,\n",
       " 'łódzkie': 13,\n",
       " 'mazowieckie': 14,\n",
       " 'lubelskie': 15,\n",
       " 'lubuskie': 16}"
      ]
     },
     "execution_count": 7,
     "metadata": {},
     "output_type": "execute_result"
    }
   ],
   "source": [
    "# extracting voivodeship names and their id's from geojson\n",
    "wojew_id_map = {}\n",
    "\n",
    "for feature in wojewodztwa['features']:\n",
    "    feature['id'] = feature['properties']['id']\n",
    "    wojew_id_map[feature['properties']['nazwa']] = feature['id']\n",
    "    \n",
    "wojew_id_map"
   ]
  },
  {
   "cell_type": "code",
   "execution_count": 8,
   "metadata": {},
   "outputs": [
    {
     "data": {
      "text/html": [
       "<div>\n",
       "<style scoped>\n",
       "    .dataframe tbody tr th:only-of-type {\n",
       "        vertical-align: middle;\n",
       "    }\n",
       "\n",
       "    .dataframe tbody tr th {\n",
       "        vertical-align: top;\n",
       "    }\n",
       "\n",
       "    .dataframe thead th {\n",
       "        text-align: right;\n",
       "    }\n",
       "</style>\n",
       "<table border=\"1\" class=\"dataframe\">\n",
       "  <thead>\n",
       "    <tr style=\"text-align: right;\">\n",
       "      <th></th>\n",
       "      <th>wojewodztwo</th>\n",
       "      <th>stopa</th>\n",
       "      <th>id</th>\n",
       "    </tr>\n",
       "  </thead>\n",
       "  <tbody>\n",
       "    <tr>\n",
       "      <th>0</th>\n",
       "      <td>dolnośląskie</td>\n",
       "      <td>5.2</td>\n",
       "      <td>8</td>\n",
       "    </tr>\n",
       "    <tr>\n",
       "      <th>1</th>\n",
       "      <td>podkarpackie</td>\n",
       "      <td>8.4</td>\n",
       "      <td>9</td>\n",
       "    </tr>\n",
       "    <tr>\n",
       "      <th>2</th>\n",
       "      <td>lubuskie</td>\n",
       "      <td>5.4</td>\n",
       "      <td>16</td>\n",
       "    </tr>\n",
       "    <tr>\n",
       "      <th>3</th>\n",
       "      <td>śląskie</td>\n",
       "      <td>6.3</td>\n",
       "      <td>1</td>\n",
       "    </tr>\n",
       "    <tr>\n",
       "      <th>4</th>\n",
       "      <td>opolskie</td>\n",
       "      <td>4.6</td>\n",
       "      <td>2</td>\n",
       "    </tr>\n",
       "  </tbody>\n",
       "</table>\n",
       "</div>"
      ],
      "text/plain": [
       "    wojewodztwo  stopa  id\n",
       "0  dolnośląskie    5.2   8\n",
       "1  podkarpackie    8.4   9\n",
       "2      lubuskie    5.4  16\n",
       "3       śląskie    6.3   1\n",
       "4      opolskie    4.6   2"
      ]
     },
     "execution_count": 8,
     "metadata": {},
     "output_type": "execute_result"
    }
   ],
   "source": [
    "# create new id in data frame by matching with id from geojson\n",
    "df_w['id'] = df_w['wojewodztwo'].apply(lambda x: wojew_id_map[x])\n",
    "\n",
    "df_w.head()"
   ]
  },
  {
   "cell_type": "code",
   "execution_count": 9,
   "metadata": {
    "scrolled": false
   },
   "outputs": [
    {
     "data": {
      "text/plain": [
       "'figure_unemployment.html'"
      ]
     },
     "execution_count": 9,
     "metadata": {},
     "output_type": "execute_result"
    }
   ],
   "source": [
    "# basic choropleth\n",
    "fig_w = px.choropleth(data_frame=df_w,\n",
    "                      geojson=wojewodztwa,\n",
    "                      locations=df_w['id'],\n",
    "                      color=df_w['stopa'],\n",
    "                      color_continuous_scale='thermal',\n",
    "                      hover_name=df_w['wojewodztwo'],\n",
    "                      labels={'stopa': '[%]'},\n",
    "                      height=700,\n",
    "                      range_color=(0,10),\n",
    "                      title='Unemployment Rate in August 2021')\n",
    "\n",
    "# adding labels\n",
    "fig_w.add_scattergeo(geojson=wojewodztwa,\n",
    "                     locations=df_w['id'],\n",
    "                     text=df_w['stopa'],\n",
    "                     mode='text',\n",
    "                     textfont={'size': 18, 'family': 'Arial'})\n",
    "\n",
    "fig_w.update_geos(fitbounds='locations', visible=False, scope='europe')\n",
    "\n",
    "# disable zooming and remove floating menu\n",
    "config = {'scrollZoom': False, 'displayModeBar': False}\n",
    "\n",
    "import plotly\n",
    "# save to html file\n",
    "plotly.offline.plot(fig_w, filename='figure_unemployment.html', config=config)"
   ]
  },
  {
   "cell_type": "markdown",
   "metadata": {},
   "source": [
    "### Choropleth 2 - COVID-19 Cases per Voivodeship\n",
    "\n",
    "Second choropleth will represent spread of COVID-19 in October 2021 per voivodeship. This dataset is provided by GUS and is updated daily. The data was downloaded from GUS's official website [GUS][1] [Accessed 1st November].\n",
    "\n",
    "[1]: https://www.gov.pl/web/koronawirus/wykaz-zarazen-koronawirusem-sars-cov-2 'GUS'"
   ]
  },
  {
   "cell_type": "code",
   "execution_count": 10,
   "metadata": {},
   "outputs": [
    {
     "data": {
      "text/html": [
       "<div>\n",
       "<style scoped>\n",
       "    .dataframe tbody tr th:only-of-type {\n",
       "        vertical-align: middle;\n",
       "    }\n",
       "\n",
       "    .dataframe tbody tr th {\n",
       "        vertical-align: top;\n",
       "    }\n",
       "\n",
       "    .dataframe thead th {\n",
       "        text-align: right;\n",
       "    }\n",
       "</style>\n",
       "<table border=\"1\" class=\"dataframe\">\n",
       "  <thead>\n",
       "    <tr style=\"text-align: right;\">\n",
       "      <th></th>\n",
       "      <th>wojewodztwo</th>\n",
       "      <th>liczba_przypadkow</th>\n",
       "      <th>liczba_na_10_tys_mieszkancow</th>\n",
       "      <th>zgony</th>\n",
       "      <th>zgony_w_wyniku_covid_bez_chorob_wspolistniejacych</th>\n",
       "      <th>zgony_w_wyniku_covid_i_chorob_wspolistniejacych</th>\n",
       "      <th>liczba_zlecen_poz</th>\n",
       "      <th>liczba_ozdrowiencow</th>\n",
       "      <th>liczba_osob_objetych_kwarantanna</th>\n",
       "      <th>liczba_wykonanych_testow</th>\n",
       "      <th>liczba_testow_z_wynikiem_pozytywnym</th>\n",
       "      <th>liczba_testow_z_wynikiem_negatywnym</th>\n",
       "      <th>liczba_pozostalych_testow</th>\n",
       "      <th>teryt</th>\n",
       "      <th>stan_rekordu_na</th>\n",
       "    </tr>\n",
       "  </thead>\n",
       "  <tbody>\n",
       "    <tr>\n",
       "      <th>0</th>\n",
       "      <td>Cały kraj</td>\n",
       "      <td>1344</td>\n",
       "      <td>0.35</td>\n",
       "      <td>23</td>\n",
       "      <td>4</td>\n",
       "      <td>19</td>\n",
       "      <td>5499</td>\n",
       "      <td>994</td>\n",
       "      <td>89515</td>\n",
       "      <td>42312</td>\n",
       "      <td>1525</td>\n",
       "      <td>40680</td>\n",
       "      <td>107</td>\n",
       "      <td>t00</td>\n",
       "      <td>2021-10-01</td>\n",
       "    </tr>\n",
       "    <tr>\n",
       "      <th>1</th>\n",
       "      <td>dolnośląskie</td>\n",
       "      <td>68</td>\n",
       "      <td>0.23</td>\n",
       "      <td>0</td>\n",
       "      <td>0</td>\n",
       "      <td>0</td>\n",
       "      <td>304</td>\n",
       "      <td>60</td>\n",
       "      <td>6094</td>\n",
       "      <td>2670</td>\n",
       "      <td>78</td>\n",
       "      <td>2587</td>\n",
       "      <td>5</td>\n",
       "      <td>t02</td>\n",
       "      <td>2021-10-01</td>\n",
       "    </tr>\n",
       "    <tr>\n",
       "      <th>2</th>\n",
       "      <td>kujawsko-pomorskie</td>\n",
       "      <td>63</td>\n",
       "      <td>0.30</td>\n",
       "      <td>2</td>\n",
       "      <td>0</td>\n",
       "      <td>2</td>\n",
       "      <td>280</td>\n",
       "      <td>76</td>\n",
       "      <td>2466</td>\n",
       "      <td>1956</td>\n",
       "      <td>70</td>\n",
       "      <td>1876</td>\n",
       "      <td>10</td>\n",
       "      <td>t04</td>\n",
       "      <td>2021-10-01</td>\n",
       "    </tr>\n",
       "    <tr>\n",
       "      <th>3</th>\n",
       "      <td>lubelskie</td>\n",
       "      <td>254</td>\n",
       "      <td>1.21</td>\n",
       "      <td>5</td>\n",
       "      <td>0</td>\n",
       "      <td>5</td>\n",
       "      <td>730</td>\n",
       "      <td>135</td>\n",
       "      <td>9412</td>\n",
       "      <td>2846</td>\n",
       "      <td>279</td>\n",
       "      <td>2554</td>\n",
       "      <td>13</td>\n",
       "      <td>t06</td>\n",
       "      <td>2021-10-01</td>\n",
       "    </tr>\n",
       "    <tr>\n",
       "      <th>4</th>\n",
       "      <td>lubuskie</td>\n",
       "      <td>15</td>\n",
       "      <td>0.15</td>\n",
       "      <td>0</td>\n",
       "      <td>0</td>\n",
       "      <td>0</td>\n",
       "      <td>124</td>\n",
       "      <td>14</td>\n",
       "      <td>2221</td>\n",
       "      <td>909</td>\n",
       "      <td>17</td>\n",
       "      <td>890</td>\n",
       "      <td>2</td>\n",
       "      <td>t08</td>\n",
       "      <td>2021-10-01</td>\n",
       "    </tr>\n",
       "  </tbody>\n",
       "</table>\n",
       "</div>"
      ],
      "text/plain": [
       "          wojewodztwo  liczba_przypadkow  liczba_na_10_tys_mieszkancow  zgony  \\\n",
       "0           Cały kraj               1344                          0.35     23   \n",
       "1        dolnośląskie                 68                          0.23      0   \n",
       "2  kujawsko-pomorskie                 63                          0.30      2   \n",
       "3           lubelskie                254                          1.21      5   \n",
       "4            lubuskie                 15                          0.15      0   \n",
       "\n",
       "   zgony_w_wyniku_covid_bez_chorob_wspolistniejacych  \\\n",
       "0                                                  4   \n",
       "1                                                  0   \n",
       "2                                                  0   \n",
       "3                                                  0   \n",
       "4                                                  0   \n",
       "\n",
       "   zgony_w_wyniku_covid_i_chorob_wspolistniejacych  liczba_zlecen_poz  \\\n",
       "0                                               19               5499   \n",
       "1                                                0                304   \n",
       "2                                                2                280   \n",
       "3                                                5                730   \n",
       "4                                                0                124   \n",
       "\n",
       "   liczba_ozdrowiencow  liczba_osob_objetych_kwarantanna  \\\n",
       "0                  994                             89515   \n",
       "1                   60                              6094   \n",
       "2                   76                              2466   \n",
       "3                  135                              9412   \n",
       "4                   14                              2221   \n",
       "\n",
       "   liczba_wykonanych_testow  liczba_testow_z_wynikiem_pozytywnym  \\\n",
       "0                     42312                                 1525   \n",
       "1                      2670                                   78   \n",
       "2                      1956                                   70   \n",
       "3                      2846                                  279   \n",
       "4                       909                                   17   \n",
       "\n",
       "   liczba_testow_z_wynikiem_negatywnym  liczba_pozostalych_testow teryt  \\\n",
       "0                                40680                        107   t00   \n",
       "1                                 2587                          5   t02   \n",
       "2                                 1876                         10   t04   \n",
       "3                                 2554                         13   t06   \n",
       "4                                  890                          2   t08   \n",
       "\n",
       "  stan_rekordu_na  \n",
       "0      2021-10-01  \n",
       "1      2021-10-01  \n",
       "2      2021-10-01  \n",
       "3      2021-10-01  \n",
       "4      2021-10-01  "
      ]
     },
     "execution_count": 10,
     "metadata": {},
     "output_type": "execute_result"
    }
   ],
   "source": [
    "import glob\n",
    "\n",
    "# path to directory with multiple csv files\n",
    "path = r'C:\\Python\\notebooks_jupyter\\choropleths\\danewojewodztwa'\n",
    "all_files = glob.glob(path + '\\*.csv')\n",
    "\n",
    "list = []\n",
    "\n",
    "for filename in all_files:\n",
    "    frame = pd.read_csv(filename, index_col=None, header=0, sep=';', encoding='cp1250')\n",
    "    list.append(frame)\n",
    "\n",
    "# concatenate to data frame\n",
    "df_p = pd.concat(list, axis=0, ignore_index=True)\n",
    "\n",
    "df_p.head()"
   ]
  },
  {
   "cell_type": "code",
   "execution_count": 11,
   "metadata": {},
   "outputs": [
    {
     "data": {
      "text/plain": [
       "<matplotlib.axes._subplots.AxesSubplot at 0x114b3f10>"
      ]
     },
     "execution_count": 11,
     "metadata": {},
     "output_type": "execute_result"
    },
    {
     "data": {
      "image/png": "[encoded data removed]",
      "text/plain": [
       "<Figure size 432x288 with 1 Axes>"
      ]
     },
     "metadata": {
      "needs_background": "light"
     },
     "output_type": "display_data"
    }
   ],
   "source": [
    "# new data frame\n",
    "df_new = df_p[df_p['wojewodztwo'] == 'Cały kraj'].set_index('stan_rekordu_na')\n",
    "\n",
    "# daily cases for whole country\n",
    "df_new['liczba_przypadkow'].plot()"
   ]
  },
  {
   "cell_type": "code",
   "execution_count": 12,
   "metadata": {},
   "outputs": [
    {
     "name": "stdout",
     "output_type": "stream",
     "text": [
      "<class 'pandas.core.frame.DataFrame'>\n",
      "Int64Index: 496 entries, 1 to 526\n",
      "Data columns (total 3 columns):\n",
      " #   Column             Non-Null Count  Dtype \n",
      "---  ------             --------------  ----- \n",
      " 0   wojewodztwo        496 non-null    object\n",
      " 1   liczba_przypadkow  496 non-null    int64 \n",
      " 2   stan_rekordu_na    496 non-null    object\n",
      "dtypes: int64(1), object(2)\n",
      "memory usage: 11.6+ KB\n"
     ]
    }
   ],
   "source": [
    "# drop records\n",
    "df_p = df_p[df_p['wojewodztwo'] != 'Cały kraj']\n",
    "\n",
    "# select 1,2 and last column\n",
    "df_p = df_p.iloc[:, [0,1,-1]]\n",
    "\n",
    "# overall information of data frame\n",
    "df_p.info()"
   ]
  },
  {
   "cell_type": "code",
   "execution_count": 13,
   "metadata": {},
   "outputs": [
    {
     "data": {
      "text/plain": [
       "stan_rekordu_na\n",
       "2021-10-01    16\n",
       "2021-10-02    16\n",
       "2021-10-03    16\n",
       "2021-10-04    16\n",
       "2021-10-05    16\n",
       "2021-10-06    16\n",
       "2021-10-07    16\n",
       "2021-10-08    16\n",
       "2021-10-09    16\n",
       "2021-10-10    16\n",
       "2021-10-11    16\n",
       "2021-10-12    16\n",
       "2021-10-13    16\n",
       "2021-10-14    16\n",
       "2021-10-15    16\n",
       "2021-10-16    16\n",
       "2021-10-17    16\n",
       "2021-10-18    16\n",
       "2021-10-19    16\n",
       "2021-10-20    16\n",
       "2021-10-21    16\n",
       "2021-10-22    16\n",
       "2021-10-23    16\n",
       "2021-10-24    16\n",
       "2021-10-25    16\n",
       "2021-10-26    16\n",
       "2021-10-27    16\n",
       "2021-10-28    16\n",
       "2021-10-29    16\n",
       "2021-10-30    16\n",
       "2021-10-31    16\n",
       "Name: wojewodztwo, dtype: int64"
      ]
     },
     "execution_count": 13,
     "metadata": {},
     "output_type": "execute_result"
    }
   ],
   "source": [
    "# check number of unique voivodeships in data frame per day\n",
    "df_p.groupby(by='stan_rekordu_na')['wojewodztwo'].nunique()\n",
    "\n",
    "# optional method using a pivot table\n",
    "#df_p.pivot_table(index='stan_rekordu_na', aggfunc=lambda x: len(x.unique()))"
   ]
  },
  {
   "cell_type": "code",
   "execution_count": 14,
   "metadata": {},
   "outputs": [
    {
     "data": {
      "text/html": [
       "<div>\n",
       "<style scoped>\n",
       "    .dataframe tbody tr th:only-of-type {\n",
       "        vertical-align: middle;\n",
       "    }\n",
       "\n",
       "    .dataframe tbody tr th {\n",
       "        vertical-align: top;\n",
       "    }\n",
       "\n",
       "    .dataframe thead th {\n",
       "        text-align: right;\n",
       "    }\n",
       "</style>\n",
       "<table border=\"1\" class=\"dataframe\">\n",
       "  <thead>\n",
       "    <tr style=\"text-align: right;\">\n",
       "      <th></th>\n",
       "      <th>wojewodztwo</th>\n",
       "      <th>liczba_przypadkow</th>\n",
       "      <th>stan_rekordu_na</th>\n",
       "      <th>id</th>\n",
       "    </tr>\n",
       "  </thead>\n",
       "  <tbody>\n",
       "    <tr>\n",
       "      <th>1</th>\n",
       "      <td>dolnośląskie</td>\n",
       "      <td>68</td>\n",
       "      <td>2021-10-01</td>\n",
       "      <td>8</td>\n",
       "    </tr>\n",
       "    <tr>\n",
       "      <th>2</th>\n",
       "      <td>kujawsko-pomorskie</td>\n",
       "      <td>63</td>\n",
       "      <td>2021-10-01</td>\n",
       "      <td>6</td>\n",
       "    </tr>\n",
       "    <tr>\n",
       "      <th>3</th>\n",
       "      <td>lubelskie</td>\n",
       "      <td>254</td>\n",
       "      <td>2021-10-01</td>\n",
       "      <td>15</td>\n",
       "    </tr>\n",
       "    <tr>\n",
       "      <th>4</th>\n",
       "      <td>lubuskie</td>\n",
       "      <td>15</td>\n",
       "      <td>2021-10-01</td>\n",
       "      <td>16</td>\n",
       "    </tr>\n",
       "    <tr>\n",
       "      <th>5</th>\n",
       "      <td>łódzkie</td>\n",
       "      <td>59</td>\n",
       "      <td>2021-10-01</td>\n",
       "      <td>13</td>\n",
       "    </tr>\n",
       "  </tbody>\n",
       "</table>\n",
       "</div>"
      ],
      "text/plain": [
       "          wojewodztwo  liczba_przypadkow stan_rekordu_na  id\n",
       "1        dolnośląskie                 68      2021-10-01   8\n",
       "2  kujawsko-pomorskie                 63      2021-10-01   6\n",
       "3           lubelskie                254      2021-10-01  15\n",
       "4            lubuskie                 15      2021-10-01  16\n",
       "5             łódzkie                 59      2021-10-01  13"
      ]
     },
     "execution_count": 14,
     "metadata": {},
     "output_type": "execute_result"
    }
   ],
   "source": [
    "# create new id in data frame by matching with id from geojson\n",
    "df_p['id'] = df_p['wojewodztwo'].apply(lambda x: wojew_id_map[x])\n",
    "\n",
    "df_p.head()"
   ]
  },
  {
   "cell_type": "code",
   "execution_count": 15,
   "metadata": {},
   "outputs": [
    {
     "data": {
      "text/plain": [
       "'figure_covid.html'"
      ]
     },
     "execution_count": 15,
     "metadata": {},
     "output_type": "execute_result"
    }
   ],
   "source": [
    "fig_covid = px.choropleth(data_frame=df_p,\n",
    "                          geojson=wojewodztwa,\n",
    "                          locations=df_p['id'],\n",
    "                          color=df_p['liczba_przypadkow'],\n",
    "                          color_continuous_scale='Sunset',\n",
    "                          hover_name=df_p['wojewodztwo'],\n",
    "                          labels={'liczba_przypadkow': 'Cases', 'stan_rekordu_na': 'Date'},\n",
    "                          height=700,\n",
    "                          title='New Cases of COVID-19 per Day in October 2021',\n",
    "                          animation_frame=df_p['stan_rekordu_na'])\n",
    "\n",
    "fig_covid.update_geos(fitbounds='locations', visible=False, scope='europe')\n",
    "\n",
    "# disable zooming and remove floating menu\n",
    "config = {'scrollZoom': False, 'displayModeBar': False}\n",
    "\n",
    "# save to html file\n",
    "plotly.offline.plot(fig_covid, filename='figure_covid.html', config=config)"
   ]
  },
  {
   "cell_type": "markdown",
   "metadata": {},
   "source": [
    "Due to it's animation feature and interactive functions the plot has been exported to HTML file and can be open in any browser.\n",
    "\n",
    "To be continued in part 2."
   ]
  }
 ],
 "metadata": {
  "kernelspec": {
   "display_name": "Python 3",
   "language": "python",
   "name": "python3"
  },
  "language_info": {
   "codemirror_mode": {
    "name": "ipython",
    "version": 3
   },
   "file_extension": ".py",
   "mimetype": "text/x-python",
   "name": "python",
   "nbconvert_exporter": "python",
   "pygments_lexer": "ipython3",
   "version": "3.8.3"
  }
 },
 "nbformat": 4,
 "nbformat_minor": 4
}
